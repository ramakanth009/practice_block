{
  "nbformat": 4,
  "nbformat_minor": 0,
  "metadata": {
    "colab": {
      "provenance": []
    },
    "kernelspec": {
      "name": "python3",
      "display_name": "Python 3"
    },
    "language_info": {
      "name": "python"
    }
  },
  "cells": [
    {
      "cell_type": "markdown",
      "source": [
        "the concatenation does't always work so we use different type of formatting which is string interpolation now let us format with .format()"
      ],
      "metadata": {
        "id": "rfnTXNYLdWJa"
      }
    },
    {
      "cell_type": "code",
      "source": [
        "print('This is a string {}'.format('insert'))"
      ],
      "metadata": {
        "colab": {
          "base_uri": "https://localhost:8080/"
        },
        "id": "1Ik6eJDBdYLA",
        "outputId": "15780691-0b9a-4663-9e5e-8ef1e55c2505"
      },
      "execution_count": 1,
      "outputs": [
        {
          "output_type": "stream",
          "name": "stdout",
          "text": [
            "This is a string insert\n"
          ]
        }
      ]
    },
    {
      "cell_type": "markdown",
      "source": [
        "strings can also be insesrted by index position"
      ],
      "metadata": {
        "id": "GiJSTUiFkUgR"
      }
    },
    {
      "cell_type": "code",
      "source": [
        "print('the {1} brown {0} jumps over the {2}'.format('fox','quick','lazy dog'))"
      ],
      "metadata": {
        "colab": {
          "base_uri": "https://localhost:8080/"
        },
        "id": "faUO1vDbkYuN",
        "outputId": "b7f3a9eb-d05e-455c-8306-25e2758b17ea"
      },
      "execution_count": 2,
      "outputs": [
        {
          "output_type": "stream",
          "name": "stdout",
          "text": [
            "the quick brown fox jumps over the lazy dog\n"
          ]
        }
      ]
    },
    {
      "cell_type": "markdown",
      "source": [
        "we can also assign them keywords"
      ],
      "metadata": {
        "id": "EVRqkLySmAAn"
      }
    },
    {
      "cell_type": "markdown",
      "source": [
        "Next is float formatting with format method \"{value:width.precision *f*}\""
      ],
      "metadata": {
        "id": "MxNWqhuanwb_"
      }
    },
    {
      "cell_type": "code",
      "source": [
        "print('the {q} brown {f} jumps over the {l}'.format(f='fox',q='quick',l='lazy dog'))"
      ],
      "metadata": {
        "colab": {
          "base_uri": "https://localhost:8080/"
        },
        "id": "sr8pSG5smDTq",
        "outputId": "00286e89-d7a1-4426-a453-a8308b501bbf"
      },
      "execution_count": 3,
      "outputs": [
        {
          "output_type": "stream",
          "name": "stdout",
          "text": [
            "the quick brown fox jumps over the lazy dog\n"
          ]
        }
      ]
    },
    {
      "cell_type": "code",
      "source": [
        "result=100/777"
      ],
      "metadata": {
        "id": "OSZvsMPboAEI"
      },
      "execution_count": 4,
      "outputs": []
    },
    {
      "cell_type": "code",
      "source": [
        "result"
      ],
      "metadata": {
        "colab": {
          "base_uri": "https://localhost:8080/"
        },
        "id": "7BGSYJemoDyf",
        "outputId": "973400f0-5b9c-429b-bc73-3694b1256ac4"
      },
      "execution_count": 5,
      "outputs": [
        {
          "output_type": "execute_result",
          "data": {
            "text/plain": [
              "0.1287001287001287"
            ]
          },
          "metadata": {},
          "execution_count": 5
        }
      ]
    },
    {
      "cell_type": "code",
      "source": [
        "print(\"The result was {}\".format(result))"
      ],
      "metadata": {
        "colab": {
          "base_uri": "https://localhost:8080/"
        },
        "id": "tY0GhGA8oHA2",
        "outputId": "face1375-8638-40ae-f2e1-9b00a838a418"
      },
      "execution_count": 6,
      "outputs": [
        {
          "output_type": "stream",
          "name": "stdout",
          "text": [
            "The result was 0.1287001287001287\n"
          ]
        }
      ]
    },
    {
      "cell_type": "markdown",
      "source": [
        "we can also assign the value"
      ],
      "metadata": {
        "id": "UmMvt5pEo_Ul"
      }
    },
    {
      "cell_type": "code",
      "source": [
        "print(\"The result was {r}\".format(r=result))"
      ],
      "metadata": {
        "colab": {
          "base_uri": "https://localhost:8080/"
        },
        "id": "0Nyd_je4pCvt",
        "outputId": "d833cd29-ad4d-455c-ba85-908ad0770a2d"
      },
      "execution_count": 7,
      "outputs": [
        {
          "output_type": "stream",
          "name": "stdout",
          "text": [
            "The result was 0.1287001287001287\n"
          ]
        }
      ]
    },
    {
      "cell_type": "markdown",
      "source": [
        "now we use \"{value:width.precision *f*}"
      ],
      "metadata": {
        "id": "AtbZaPHep4yy"
      }
    },
    {
      "cell_type": "code",
      "source": [
        "print(\"The result was {r:10.4f}\".format(r=result))"
      ],
      "metadata": {
        "colab": {
          "base_uri": "https://localhost:8080/"
        },
        "id": "KcDGZ2y6p9oQ",
        "outputId": "928e388a-6b78-4217-e1d5-d7d0ebe0b1e1"
      },
      "execution_count": 9,
      "outputs": [
        {
          "output_type": "stream",
          "name": "stdout",
          "text": [
            "The result was     0.1287\n"
          ]
        }
      ]
    },
    {
      "cell_type": "markdown",
      "source": [
        "now we do the f-strings (formatted string literal)"
      ],
      "metadata": {
        "id": "miWOB2mesKWc"
      }
    },
    {
      "cell_type": "code",
      "source": [
        "name='jose'"
      ],
      "metadata": {
        "id": "qpSffa7WsZgJ"
      },
      "execution_count": 13,
      "outputs": []
    },
    {
      "cell_type": "code",
      "source": [
        "print(f'his name is {name}')"
      ],
      "metadata": {
        "colab": {
          "base_uri": "https://localhost:8080/"
        },
        "id": "OGW528O-sdWC",
        "outputId": "1f124efe-b7e3-474f-da5e-5d9c0e04a525"
      },
      "execution_count": 16,
      "outputs": [
        {
          "output_type": "stream",
          "name": "stdout",
          "text": [
            "his name is jose\n"
          ]
        }
      ]
    }
  ]
}