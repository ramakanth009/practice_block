{
  "nbformat": 4,
  "nbformat_minor": 0,
  "metadata": {
    "colab": {
      "provenance": [],
      "collapsed_sections": []
    },
    "kernelspec": {
      "name": "python3",
      "display_name": "Python 3"
    },
    "language_info": {
      "name": "python"
    }
  },
  "cells": [
    {
      "cell_type": "code",
      "source": [
        "'hello'"
      ],
      "metadata": {
        "colab": {
          "base_uri": "https://localhost:8080/",
          "height": 36
        },
        "id": "Tp4GQr1yztGs",
        "outputId": "edb6d680-43e3-4cc7-a2bc-1d255f4b8dea"
      },
      "execution_count": 7,
      "outputs": [
        {
          "output_type": "execute_result",
          "data": {
            "text/plain": [
              "'hello'"
            ],
            "application/vnd.google.colaboratory.intrinsic+json": {
              "type": "string"
            }
          },
          "metadata": {},
          "execution_count": 7
        }
      ]
    },
    {
      "cell_type": "code",
      "source": [
        "\"world\""
      ],
      "metadata": {
        "colab": {
          "base_uri": "https://localhost:8080/",
          "height": 36
        },
        "id": "u6Px9lyOzyNZ",
        "outputId": "6e17be5b-34a1-4ae7-ed7b-33fd96b537aa"
      },
      "execution_count": 8,
      "outputs": [
        {
          "output_type": "execute_result",
          "data": {
            "text/plain": [
              "'world'"
            ],
            "application/vnd.google.colaboratory.intrinsic+json": {
              "type": "string"
            }
          },
          "metadata": {},
          "execution_count": 8
        }
      ]
    },
    {
      "cell_type": "code",
      "source": [
        "\"This is also a string\""
      ],
      "metadata": {
        "colab": {
          "base_uri": "https://localhost:8080/",
          "height": 36
        },
        "id": "poC1a9rNz014",
        "outputId": "cf78feb3-ff15-4b0f-f566-dfa8866670de"
      },
      "execution_count": 14,
      "outputs": [
        {
          "output_type": "execute_result",
          "data": {
            "text/plain": [
              "'This is also a string'"
            ],
            "application/vnd.google.colaboratory.intrinsic+json": {
              "type": "string"
            }
          },
          "metadata": {},
          "execution_count": 14
        }
      ]
    },
    {
      "cell_type": "code",
      "source": [
        "\" I don't wanna know \""
      ],
      "metadata": {
        "colab": {
          "base_uri": "https://localhost:8080/",
          "height": 36
        },
        "id": "XYlmTIB4z6l5",
        "outputId": "87037605-ed52-43f1-a6a6-9e1fb58aebe8"
      },
      "execution_count": 11,
      "outputs": [
        {
          "output_type": "execute_result",
          "data": {
            "text/plain": [
              "\" I don't wanna know \""
            ],
            "application/vnd.google.colaboratory.intrinsic+json": {
              "type": "string"
            }
          },
          "metadata": {},
          "execution_count": 11
        }
      ]
    },
    {
      "cell_type": "code",
      "source": [
        "print(\"hello world\")"
      ],
      "metadata": {
        "colab": {
          "base_uri": "https://localhost:8080/",
          "height": 0
        },
        "id": "GS9-ITF2z_pa",
        "outputId": "6db4e379-f862-43bb-809b-4d23d04b501d"
      },
      "execution_count": 26,
      "outputs": [
        {
          "output_type": "stream",
          "name": "stdout",
          "text": [
            "hello world\n"
          ]
        }
      ]
    },
    {
      "cell_type": "markdown",
      "source": [
        "why print is necessary because if i wanna run two line it give output of one for example"
      ],
      "metadata": {
        "id": "WirWv-iK16wk"
      }
    },
    {
      "cell_type": "code",
      "source": [
        "\"hello world one\"\n",
        "\"hello world two\""
      ],
      "metadata": {
        "colab": {
          "base_uri": "https://localhost:8080/",
          "height": 36
        },
        "id": "X58_OIU22J_k",
        "outputId": "fc38f26f-0ef7-44ee-885d-8367a7dbddf7"
      },
      "execution_count": 27,
      "outputs": [
        {
          "output_type": "execute_result",
          "data": {
            "text/plain": [
              "'hello world two'"
            ],
            "application/vnd.google.colaboratory.intrinsic+json": {
              "type": "string"
            }
          },
          "metadata": {},
          "execution_count": 27
        }
      ]
    },
    {
      "cell_type": "markdown",
      "source": [
        "so when we use print the result gonna be "
      ],
      "metadata": {
        "id": "Omm8tP0v2Ua0"
      }
    },
    {
      "cell_type": "code",
      "source": [
        "print(\"hello world one\")\n",
        "print(\"hwllo world two\")"
      ],
      "metadata": {
        "colab": {
          "base_uri": "https://localhost:8080/",
          "height": 0
        },
        "id": "A0zUNJ172Zt1",
        "outputId": "013066fc-ba31-4d79-91ea-1852f34727bc"
      },
      "execution_count": 28,
      "outputs": [
        {
          "output_type": "stream",
          "name": "stdout",
          "text": [
            "hello world one\n",
            "hwllo world two\n"
          ]
        }
      ]
    },
    {
      "cell_type": "markdown",
      "source": [
        "we have a escape character sequence (or new line) \\n"
      ],
      "metadata": {
        "id": "lGKNUfNT3Jp2"
      }
    },
    {
      "cell_type": "code",
      "source": [
        "print('hello \\n world')"
      ],
      "metadata": {
        "colab": {
          "base_uri": "https://localhost:8080/",
          "height": 0
        },
        "id": "Uw4s0gr93beQ",
        "outputId": "598823d7-d6bd-40aa-ccf3-db53f877eb51"
      },
      "execution_count": 29,
      "outputs": [
        {
          "output_type": "stream",
          "name": "stdout",
          "text": [
            "hello \n",
            " world\n"
          ]
        }
      ]
    },
    {
      "cell_type": "markdown",
      "source": [
        "so if i dont want any space before hello world\n",
        "and python knows not to attach the letter \\n because it is essentially atached to backslash"
      ],
      "metadata": {
        "id": "8FMr8NcB3pYE"
      }
    },
    {
      "cell_type": "code",
      "source": [
        "print('hello \\nworld')"
      ],
      "metadata": {
        "colab": {
          "base_uri": "https://localhost:8080/",
          "height": 0
        },
        "id": "gceKqwYB3uiK",
        "outputId": "ff73cd50-3481-4578-9586-ef52eb966468"
      },
      "execution_count": 30,
      "outputs": [
        {
          "output_type": "stream",
          "name": "stdout",
          "text": [
            "hello \n",
            "world\n"
          ]
        }
      ]
    },
    {
      "cell_type": "markdown",
      "source": [
        "another popular escape sequence is tab \\t\n",
        "we discuss more in print formatting\n"
      ],
      "metadata": {
        "id": "RO3--2G24P8b"
      }
    },
    {
      "cell_type": "code",
      "source": [
        "print('hello \\t world')"
      ],
      "metadata": {
        "colab": {
          "base_uri": "https://localhost:8080/",
          "height": 0
        },
        "id": "HiUF7C8c4T-2",
        "outputId": "28b3beab-8770-43b5-bab6-35b1897889d8"
      },
      "execution_count": 33,
      "outputs": [
        {
          "output_type": "stream",
          "name": "stdout",
          "text": [
            "hello \t world\n"
          ]
        }
      ]
    },
    {
      "cell_type": "markdown",
      "source": [
        "another built in function is 'len' function which is length function which give the lenth of the string\n",
        "and even the spaces are being counted"
      ],
      "metadata": {
        "id": "0AANcIaH499b"
      }
    },
    {
      "cell_type": "code",
      "source": [
        "len('hello world')"
      ],
      "metadata": {
        "colab": {
          "base_uri": "https://localhost:8080/",
          "height": 0
        },
        "id": "XUXGLcSj5LpB",
        "outputId": "1792ea97-4ebb-4e5b-b279-4c00213e4b20"
      },
      "execution_count": 34,
      "outputs": [
        {
          "output_type": "execute_result",
          "data": {
            "text/plain": [
              "11"
            ]
          },
          "metadata": {},
          "execution_count": 34
        }
      ]
    }
  ]
}