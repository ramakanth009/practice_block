{
  "nbformat": 4,
  "nbformat_minor": 0,
  "metadata": {
    "colab": {
      "provenance": [],
      "collapsed_sections": []
    },
    "kernelspec": {
      "name": "python3",
      "display_name": "Python 3"
    },
    "language_info": {
      "name": "python"
    }
  },
  "cells": [
    {
      "cell_type": "markdown",
      "source": [
        "we use pharanthesis insted of square brackets for tuples"
      ],
      "metadata": {
        "id": "DcpDWZWonFed"
      }
    },
    {
      "cell_type": "code",
      "source": [
        "r=(1,2,3)"
      ],
      "metadata": {
        "id": "79b_Ev5EnLmn"
      },
      "execution_count": 1,
      "outputs": []
    },
    {
      "cell_type": "code",
      "source": [
        "t=[1,2,3]"
      ],
      "metadata": {
        "id": "APEe4QG_nkwK"
      },
      "execution_count": 2,
      "outputs": []
    },
    {
      "cell_type": "code",
      "source": [
        "type(r)"
      ],
      "metadata": {
        "colab": {
          "base_uri": "https://localhost:8080/"
        },
        "id": "rgxQRkpEnn2i",
        "outputId": "8e9bb9f1-af88-4050-d30f-2c5e7f4a8b3f"
      },
      "execution_count": 3,
      "outputs": [
        {
          "output_type": "execute_result",
          "data": {
            "text/plain": [
              "tuple"
            ]
          },
          "metadata": {},
          "execution_count": 3
        }
      ]
    },
    {
      "cell_type": "code",
      "source": [
        "type(t)"
      ],
      "metadata": {
        "colab": {
          "base_uri": "https://localhost:8080/"
        },
        "id": "oekVd9xEovIM",
        "outputId": "1a49cf3a-c5eb-452e-c2eb-ce2b1a3128c9"
      },
      "execution_count": 4,
      "outputs": [
        {
          "output_type": "execute_result",
          "data": {
            "text/plain": [
              "list"
            ]
          },
          "metadata": {},
          "execution_count": 4
        }
      ]
    },
    {
      "cell_type": "code",
      "source": [
        "len(r)"
      ],
      "metadata": {
        "colab": {
          "base_uri": "https://localhost:8080/"
        },
        "id": "RDm02bxho7VC",
        "outputId": "7b8018a0-3579-4dda-f323-a116944a892b"
      },
      "execution_count": 5,
      "outputs": [
        {
          "output_type": "execute_result",
          "data": {
            "text/plain": [
              "3"
            ]
          },
          "metadata": {},
          "execution_count": 5
        }
      ]
    },
    {
      "cell_type": "markdown",
      "source": [
        "and just like a list it also fine to mix object type so we can have a string inside of a tuple along with a number"
      ],
      "metadata": {
        "id": "S2tEW8C2pEk7"
      }
    },
    {
      "cell_type": "code",
      "source": [
        "r=('one',2)"
      ],
      "metadata": {
        "id": "8RYn7poLpStj"
      },
      "execution_count": 6,
      "outputs": []
    },
    {
      "cell_type": "markdown",
      "source": [
        "we can also make indexing and slicing"
      ],
      "metadata": {
        "id": "uSXzleVBpdf2"
      }
    },
    {
      "cell_type": "code",
      "source": [
        "r[0]"
      ],
      "metadata": {
        "colab": {
          "base_uri": "https://localhost:8080/",
          "height": 36
        },
        "id": "jB7Jff7RphBM",
        "outputId": "f64bc18e-a4a2-4f0b-ab2b-0ff5de8ab1df"
      },
      "execution_count": 7,
      "outputs": [
        {
          "output_type": "execute_result",
          "data": {
            "text/plain": [
              "'one'"
            ],
            "application/vnd.google.colaboratory.intrinsic+json": {
              "type": "string"
            }
          },
          "metadata": {},
          "execution_count": 7
        }
      ]
    },
    {
      "cell_type": "code",
      "source": [
        "r[1:]"
      ],
      "metadata": {
        "colab": {
          "base_uri": "https://localhost:8080/"
        },
        "id": "U8FNraubpqhw",
        "outputId": "6c13d972-cfa5-458f-d511-72e19341fa5e"
      },
      "execution_count": 8,
      "outputs": [
        {
          "output_type": "execute_result",
          "data": {
            "text/plain": [
              "(2,)"
            ]
          },
          "metadata": {},
          "execution_count": 8
        }
      ]
    },
    {
      "cell_type": "markdown",
      "source": [
        "there is also two basic built in methonds in tuples that is **index** and **count**"
      ],
      "metadata": {
        "id": "l6iCN3hkp-Fm"
      }
    },
    {
      "cell_type": "code",
      "source": [
        "r=('a','a','b')"
      ],
      "metadata": {
        "id": "guXJ1ChLqcFH"
      },
      "execution_count": 9,
      "outputs": []
    },
    {
      "cell_type": "markdown",
      "source": [
        "count shows how many time the particular value apperared"
      ],
      "metadata": {
        "id": "StUf17fRquo8"
      }
    },
    {
      "cell_type": "code",
      "source": [
        "r.count('a')"
      ],
      "metadata": {
        "colab": {
          "base_uri": "https://localhost:8080/"
        },
        "id": "twIlCX_aqn-J",
        "outputId": "115c119e-51bd-40e4-d19d-2d8b283f316c"
      },
      "execution_count": 10,
      "outputs": [
        {
          "output_type": "execute_result",
          "data": {
            "text/plain": [
              "2"
            ]
          },
          "metadata": {},
          "execution_count": 10
        }
      ]
    },
    {
      "cell_type": "markdown",
      "source": [
        "and index shows when was the first time the value apperared"
      ],
      "metadata": {
        "id": "L6So86Rfq4S9"
      }
    },
    {
      "cell_type": "code",
      "source": [
        "r.index('b')"
      ],
      "metadata": {
        "colab": {
          "base_uri": "https://localhost:8080/"
        },
        "id": "FKqsW8Sbq8tT",
        "outputId": "4d38db70-8422-4a71-c4d9-5934390ccde9"
      },
      "execution_count": 11,
      "outputs": [
        {
          "output_type": "execute_result",
          "data": {
            "text/plain": [
              "2"
            ]
          },
          "metadata": {},
          "execution_count": 11
        }
      ]
    },
    {
      "cell_type": "code",
      "source": [
        "r"
      ],
      "metadata": {
        "colab": {
          "base_uri": "https://localhost:8080/"
        },
        "id": "sbA3Mmi3rGNQ",
        "outputId": "6be35c92-ed2c-4516-f82b-112b9fdc802e"
      },
      "execution_count": 12,
      "outputs": [
        {
          "output_type": "execute_result",
          "data": {
            "text/plain": [
              "('a', 'a', 'b')"
            ]
          },
          "metadata": {},
          "execution_count": 12
        }
      ]
    },
    {
      "cell_type": "code",
      "source": [
        "t"
      ],
      "metadata": {
        "colab": {
          "base_uri": "https://localhost:8080/"
        },
        "id": "JdU6_hLzrI_v",
        "outputId": "2bbcaf69-a869-4363-a38d-b8a7010889e1"
      },
      "execution_count": 13,
      "outputs": [
        {
          "output_type": "execute_result",
          "data": {
            "text/plain": [
              "[1, 2, 3]"
            ]
          },
          "metadata": {},
          "execution_count": 13
        }
      ]
    },
    {
      "cell_type": "markdown",
      "source": [
        "tuples are immutable means we cannot change the values like list"
      ],
      "metadata": {
        "id": "da7qizvjrLaE"
      }
    },
    {
      "cell_type": "code",
      "source": [
        "t[2]='three'"
      ],
      "metadata": {
        "id": "2VHJk57urUvh"
      },
      "execution_count": 14,
      "outputs": []
    },
    {
      "cell_type": "code",
      "source": [
        "t"
      ],
      "metadata": {
        "colab": {
          "base_uri": "https://localhost:8080/"
        },
        "id": "iQ-qn8t9rqS7",
        "outputId": "c40eb8d5-1c74-4c8c-8ed1-63e8afc2830a"
      },
      "execution_count": 15,
      "outputs": [
        {
          "output_type": "execute_result",
          "data": {
            "text/plain": [
              "[1, 2, 'three']"
            ]
          },
          "metadata": {},
          "execution_count": 15
        }
      ]
    },
    {
      "cell_type": "markdown",
      "source": [
        "we we try for tuples it dont work and gives error"
      ],
      "metadata": {
        "id": "Z0Fy1ie-r1tJ"
      }
    },
    {
      "cell_type": "code",
      "source": [
        "r[0]= 'y'"
      ],
      "metadata": {
        "colab": {
          "base_uri": "https://localhost:8080/",
          "height": 172
        },
        "id": "R9jOOUZAr7fi",
        "outputId": "2f4288f9-5af2-4b12-bbc6-581946a0751b"
      },
      "execution_count": 16,
      "outputs": [
        {
          "output_type": "error",
          "ename": "TypeError",
          "evalue": "ignored",
          "traceback": [
            "\u001b[0;31m---------------------------------------------------------------------------\u001b[0m",
            "\u001b[0;31mTypeError\u001b[0m                                 Traceback (most recent call last)",
            "\u001b[0;32m<ipython-input-16-78a6ed05567f>\u001b[0m in \u001b[0;36m<module>\u001b[0;34m\u001b[0m\n\u001b[0;32m----> 1\u001b[0;31m \u001b[0mr\u001b[0m\u001b[0;34m[\u001b[0m\u001b[0;36m0\u001b[0m\u001b[0;34m]\u001b[0m\u001b[0;34m=\u001b[0m \u001b[0;34m'y'\u001b[0m\u001b[0;34m\u001b[0m\u001b[0;34m\u001b[0m\u001b[0m\n\u001b[0m",
            "\u001b[0;31mTypeError\u001b[0m: 'tuple' object does not support item assignment"
          ]
        }
      ]
    },
    {
      "cell_type": "markdown",
      "metadata": {
        "id": "Mcouvc6wM8Da"
      },
      "source": [
        "## When to use Tuples\n",
        "\n",
        "You may be wondering, \"Why bother using tuples when they have fewer available methods?\" To be honest, tuples are not used as often as lists in programming, but are used when immutability is necessary. If in your program you are passing around an object and need to make sure it does not get changed, then a tuple becomes your solution. It provides a convenient source of data integrity.\n",
        "\n",
        "You should now be able to create and use tuples in your programming as well as have an understanding of their immutability.\n",
        "\n",
        "Up next Files!"
      ]
    }
  ]
}