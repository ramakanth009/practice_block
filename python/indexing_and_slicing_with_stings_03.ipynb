{
  "nbformat": 4,
  "nbformat_minor": 0,
  "metadata": {
    "colab": {
      "provenance": [],
      "collapsed_sections": []
    },
    "kernelspec": {
      "name": "python3",
      "display_name": "Python 3"
    },
    "language_info": {
      "name": "python"
    }
  },
  "cells": [
    {
      "cell_type": "code",
      "source": [
        "uin =  \"Hello World\""
      ],
      "metadata": {
        "id": "igqyrJNNYpXS"
      },
      "execution_count": 30,
      "outputs": []
    },
    {
      "cell_type": "code",
      "source": [
        "uin"
      ],
      "metadata": {
        "colab": {
          "base_uri": "https://localhost:8080/",
          "height": 36
        },
        "id": "L2ijTXusY49t",
        "outputId": "220ba3ea-a347-4176-e16f-311735aba1d0"
      },
      "execution_count": 31,
      "outputs": [
        {
          "output_type": "execute_result",
          "data": {
            "text/plain": [
              "'Hello World'"
            ],
            "application/vnd.google.colaboratory.intrinsic+json": {
              "type": "string"
            }
          },
          "metadata": {},
          "execution_count": 31
        }
      ]
    },
    {
      "cell_type": "code",
      "source": [
        "uin[0]"
      ],
      "metadata": {
        "colab": {
          "base_uri": "https://localhost:8080/",
          "height": 36
        },
        "id": "NiSw1ZQtY7h_",
        "outputId": "9e00c0aa-6574-4c4c-eddb-790957336a43"
      },
      "execution_count": 32,
      "outputs": [
        {
          "output_type": "execute_result",
          "data": {
            "text/plain": [
              "'H'"
            ],
            "application/vnd.google.colaboratory.intrinsic+json": {
              "type": "string"
            }
          },
          "metadata": {},
          "execution_count": 32
        }
      ]
    },
    {
      "cell_type": "code",
      "source": [
        "uin[1]"
      ],
      "metadata": {
        "colab": {
          "base_uri": "https://localhost:8080/",
          "height": 36
        },
        "id": "j3EHJLizZNAc",
        "outputId": "a808b7a9-876a-44f5-8f9f-0809a3c6d3ec"
      },
      "execution_count": 33,
      "outputs": [
        {
          "output_type": "execute_result",
          "data": {
            "text/plain": [
              "'e'"
            ],
            "application/vnd.google.colaboratory.intrinsic+json": {
              "type": "string"
            }
          },
          "metadata": {},
          "execution_count": 33
        }
      ]
    },
    {
      "cell_type": "markdown",
      "source": [
        "in the same way we can use the reverse indexing by using the negitive value first word value of the string is always zero"
      ],
      "metadata": {
        "id": "6IMSuvAeZR07"
      }
    },
    {
      "cell_type": "code",
      "source": [
        "uin[-1]"
      ],
      "metadata": {
        "colab": {
          "base_uri": "https://localhost:8080/",
          "height": 36
        },
        "id": "uV63vxynZbeN",
        "outputId": "99b99ffc-5c19-400c-a4aa-08cf181894b5"
      },
      "execution_count": 34,
      "outputs": [
        {
          "output_type": "execute_result",
          "data": {
            "text/plain": [
              "'d'"
            ],
            "application/vnd.google.colaboratory.intrinsic+json": {
              "type": "string"
            }
          },
          "metadata": {},
          "execution_count": 34
        }
      ]
    },
    {
      "cell_type": "code",
      "source": [
        "pin = \"abcdefghijk\""
      ],
      "metadata": {
        "id": "bd_i3Xffq3u5"
      },
      "execution_count": 35,
      "outputs": []
    },
    {
      "cell_type": "code",
      "source": [
        "pin"
      ],
      "metadata": {
        "colab": {
          "base_uri": "https://localhost:8080/",
          "height": 36
        },
        "id": "ZoLqpnH8rD95",
        "outputId": "6919f07e-7b83-4e30-e631-75c867603aff"
      },
      "execution_count": 36,
      "outputs": [
        {
          "output_type": "execute_result",
          "data": {
            "text/plain": [
              "'abcdefghijk'"
            ],
            "application/vnd.google.colaboratory.intrinsic+json": {
              "type": "string"
            }
          },
          "metadata": {},
          "execution_count": 36
        }
      ]
    },
    {
      "cell_type": "markdown",
      "source": [
        "as we already know with indexing whow to probe the particular letter with the index number now we are going to learn about the slicing "
      ],
      "metadata": {
        "id": "pgD1XUjMrRNh"
      }
    },
    {
      "cell_type": "code",
      "source": [
        "pin[2]"
      ],
      "metadata": {
        "colab": {
          "base_uri": "https://localhost:8080/",
          "height": 36
        },
        "id": "qlM3WrijrGPJ",
        "outputId": "a6f15788-4535-4a06-9f8c-ae1b84493a68"
      },
      "execution_count": 38,
      "outputs": [
        {
          "output_type": "execute_result",
          "data": {
            "text/plain": [
              "'c'"
            ],
            "application/vnd.google.colaboratory.intrinsic+json": {
              "type": "string"
            }
          },
          "metadata": {},
          "execution_count": 38
        }
      ]
    },
    {
      "cell_type": "markdown",
      "source": [
        "as the the above value shows the example of indexing let's see slicing"
      ],
      "metadata": {
        "id": "YtIC-zAerjcw"
      }
    },
    {
      "cell_type": "code",
      "source": [
        "pin[2:]"
      ],
      "metadata": {
        "colab": {
          "base_uri": "https://localhost:8080/",
          "height": 36
        },
        "id": "IlbBVSnarxQ4",
        "outputId": "7584e28b-cbec-4f22-da2e-ad2772632480"
      },
      "execution_count": 39,
      "outputs": [
        {
          "output_type": "execute_result",
          "data": {
            "text/plain": [
              "'cdefghijk'"
            ],
            "application/vnd.google.colaboratory.intrinsic+json": {
              "type": "string"
            }
          },
          "metadata": {},
          "execution_count": 39
        }
      ]
    },
    {
      "cell_type": "markdown",
      "source": [
        "the colon indicates to start form and go all the way down to end"
      ],
      "metadata": {
        "id": "CdYUv3QMr2eV"
      }
    },
    {
      "cell_type": "markdown",
      "source": [
        "so if i wanna grab everything up to particular index and particular will not be printed "
      ],
      "metadata": {
        "id": "oXQe_kHHtnbp"
      }
    },
    {
      "cell_type": "code",
      "source": [
        "pin[:4]"
      ],
      "metadata": {
        "colab": {
          "base_uri": "https://localhost:8080/",
          "height": 36
        },
        "id": "na3tpvdOtzHh",
        "outputId": "bef42db4-27a1-443d-a79d-571600d74a6d"
      },
      "execution_count": 40,
      "outputs": [
        {
          "output_type": "execute_result",
          "data": {
            "text/plain": [
              "'abcd'"
            ],
            "application/vnd.google.colaboratory.intrinsic+json": {
              "type": "string"
            }
          },
          "metadata": {},
          "execution_count": 40
        }
      ]
    },
    {
      "cell_type": "markdown",
      "source": [
        "let'a combine starting and stoping index by grabing a subsection of string in the middle"
      ],
      "metadata": {
        "id": "uGqlJfO7w53u"
      }
    },
    {
      "cell_type": "code",
      "source": [
        "pin[3:6]"
      ],
      "metadata": {
        "colab": {
          "base_uri": "https://localhost:8080/",
          "height": 36
        },
        "id": "-uY8tUg3xGsF",
        "outputId": "c053dfce-d2e3-498c-dbb9-9415886850f6"
      },
      "execution_count": 42,
      "outputs": [
        {
          "output_type": "execute_result",
          "data": {
            "text/plain": [
              "'def'"
            ],
            "application/vnd.google.colaboratory.intrinsic+json": {
              "type": "string"
            }
          },
          "metadata": {},
          "execution_count": 42
        }
      ]
    },
    {
      "cell_type": "code",
      "source": [
        "pin[1:3]"
      ],
      "metadata": {
        "colab": {
          "base_uri": "https://localhost:8080/",
          "height": 36
        },
        "id": "7ks2h7nbxkBl",
        "outputId": "2d1ba898-b4ad-42d6-c0ad-fb40cdec78b8"
      },
      "execution_count": 44,
      "outputs": [
        {
          "output_type": "execute_result",
          "data": {
            "text/plain": [
              "'bc'"
            ],
            "application/vnd.google.colaboratory.intrinsic+json": {
              "type": "string"
            }
          },
          "metadata": {},
          "execution_count": 44
        }
      ]
    },
    {
      "cell_type": "markdown",
      "source": [
        "we can also use colon noation to print the string [::] this incicates all the way form beginning to all the way to the ending which is technically a valid syntax"
      ],
      "metadata": {
        "id": "thjoWdb_x3Ks"
      }
    },
    {
      "cell_type": "code",
      "source": [
        "pin[::]"
      ],
      "metadata": {
        "colab": {
          "base_uri": "https://localhost:8080/",
          "height": 36
        },
        "id": "it_hdyRtydgT",
        "outputId": "7aee13e9-fa20-4942-d77d-4535147f809e"
      },
      "execution_count": 45,
      "outputs": [
        {
          "output_type": "execute_result",
          "data": {
            "text/plain": [
              "'abcdefghijk'"
            ],
            "application/vnd.google.colaboratory.intrinsic+json": {
              "type": "string"
            }
          },
          "metadata": {},
          "execution_count": 45
        }
      ]
    },
    {
      "cell_type": "markdown",
      "source": [
        "so if we want a number to the ending notation it jumps in two step size"
      ],
      "metadata": {
        "id": "WcL9KxuPzQ-z"
      }
    },
    {
      "cell_type": "code",
      "source": [
        "pin[::2]"
      ],
      "metadata": {
        "colab": {
          "base_uri": "https://localhost:8080/",
          "height": 36
        },
        "id": "HizZwFoSzZ61",
        "outputId": "3e70f384-49ba-4dbd-e852-00d4624efc82"
      },
      "execution_count": 46,
      "outputs": [
        {
          "output_type": "execute_result",
          "data": {
            "text/plain": [
              "'acegik'"
            ],
            "application/vnd.google.colaboratory.intrinsic+json": {
              "type": "string"
            }
          },
          "metadata": {},
          "execution_count": 46
        }
      ]
    },
    {
      "cell_type": "code",
      "source": [
        "pin[::3]"
      ],
      "metadata": {
        "colab": {
          "base_uri": "https://localhost:8080/",
          "height": 36
        },
        "id": "-8Br49s1zjFI",
        "outputId": "8fafaaec-ce51-41ae-ce15-f7850ac2baee"
      },
      "execution_count": 47,
      "outputs": [
        {
          "output_type": "execute_result",
          "data": {
            "text/plain": [
              "'adgj'"
            ],
            "application/vnd.google.colaboratory.intrinsic+json": {
              "type": "string"
            }
          },
          "metadata": {},
          "execution_count": 47
        }
      ]
    },
    {
      "cell_type": "markdown",
      "source": [
        "we can combine this with start and stop as well as not include also [start:stop:step_size]"
      ],
      "metadata": {
        "id": "ulc3ZKdSzzUG"
      }
    },
    {
      "cell_type": "code",
      "source": [
        "pin[2:7:2]"
      ],
      "metadata": {
        "colab": {
          "base_uri": "https://localhost:8080/",
          "height": 36
        },
        "id": "b3xjB-y30AqD",
        "outputId": "65425834-0e88-4860-bec7-26c30a0e4ae2"
      },
      "execution_count": 48,
      "outputs": [
        {
          "output_type": "execute_result",
          "data": {
            "text/plain": [
              "'ceg'"
            ],
            "application/vnd.google.colaboratory.intrinsic+json": {
              "type": "string"
            }
          },
          "metadata": {},
          "execution_count": 48
        }
      ]
    },
    {
      "cell_type": "markdown",
      "source": [
        "there is a clever step to reverse a string with step size of -1 which actually reverse your string this kind of python trick will be often asked in interviews to reverse a string (insted of using a for loop)"
      ],
      "metadata": {
        "id": "3q4oK2GM0dud"
      }
    },
    {
      "cell_type": "code",
      "source": [
        "pin[::-1]"
      ],
      "metadata": {
        "colab": {
          "base_uri": "https://localhost:8080/",
          "height": 36
        },
        "id": "JLvBterl0v3W",
        "outputId": "c90e9e79-5c97-40c9-a28d-b53cccd22e47"
      },
      "execution_count": 49,
      "outputs": [
        {
          "output_type": "execute_result",
          "data": {
            "text/plain": [
              "'kjihgfedcba'"
            ],
            "application/vnd.google.colaboratory.intrinsic+json": {
              "type": "string"
            }
          },
          "metadata": {},
          "execution_count": 49
        }
      ]
    }
  ]
}