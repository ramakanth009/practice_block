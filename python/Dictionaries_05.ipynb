{
  "nbformat": 4,
  "nbformat_minor": 0,
  "metadata": {
    "colab": {
      "provenance": [],
      "collapsed_sections": []
    },
    "kernelspec": {
      "name": "python3",
      "display_name": "Python 3"
    },
    "language_info": {
      "name": "python"
    }
  },
  "cells": [
    {
      "cell_type": "markdown",
      "source": [],
      "metadata": {
        "id": "AJivwv_YEDwx"
      }
    },
    {
      "cell_type": "markdown",
      "source": [
        "now let us discus about dictionaries which are defined by curly braces and colons to signify the keys and their associated values {'key1':'value1','key2':'value2'\n",
        "\n",
        "dictionaries are unordered and cannot sorted like lists"
      ],
      "metadata": {
        "id": "YdhOFqzVEFLZ"
      }
    },
    {
      "cell_type": "code",
      "source": [
        "pet={'apple':70,'banana':40,'oranges':50}"
      ],
      "metadata": {
        "id": "qvLVVzXOEyjD"
      },
      "execution_count": 56,
      "outputs": []
    },
    {
      "cell_type": "code",
      "source": [
        "pet['apple']"
      ],
      "metadata": {
        "colab": {
          "base_uri": "https://localhost:8080/"
        },
        "id": "l84j-OEoFkMX",
        "outputId": "73cec475-3bea-4e3e-a0b3-aa5062741642"
      },
      "execution_count": 61,
      "outputs": [
        {
          "output_type": "execute_result",
          "data": {
            "text/plain": [
              "70"
            ]
          },
          "metadata": {},
          "execution_count": 61
        }
      ]
    },
    {
      "cell_type": "code",
      "source": [
        "pet['banana']"
      ],
      "metadata": {
        "colab": {
          "base_uri": "https://localhost:8080/"
        },
        "id": "5LK_yProGB40",
        "outputId": "a6b69c94-0514-4b4a-d339-253cdea191ee"
      },
      "execution_count": 62,
      "outputs": [
        {
          "output_type": "execute_result",
          "data": {
            "text/plain": [
              "40"
            ]
          },
          "metadata": {},
          "execution_count": 62
        }
      ]
    },
    {
      "cell_type": "markdown",
      "source": [
        "as python is flexible the value in the dictionary can be anything like another string, another list, another dictionary, floating point, integer (or) a number etc"
      ],
      "metadata": {
        "id": "mHNRy6D-GFvB"
      }
    },
    {
      "cell_type": "code",
      "source": [
        "vet={'k1':123,'k2':[66,77,33],'k3':{'item0':'cake','item1':'bread','item2':'milk'}}"
      ],
      "metadata": {
        "id": "n_61umi-Gx_9"
      },
      "execution_count": 70,
      "outputs": []
    },
    {
      "cell_type": "code",
      "source": [
        "vet['k2'][1]"
      ],
      "metadata": {
        "colab": {
          "base_uri": "https://localhost:8080/"
        },
        "id": "WcVy5vBbHJcL",
        "outputId": "f348973a-ca8f-4d8c-e43f-64e532d1a3cd"
      },
      "execution_count": 67,
      "outputs": [
        {
          "output_type": "execute_result",
          "data": {
            "text/plain": [
              "77"
            ]
          },
          "metadata": {},
          "execution_count": 67
        }
      ]
    },
    {
      "cell_type": "code",
      "source": [
        "vet['k3']"
      ],
      "metadata": {
        "colab": {
          "base_uri": "https://localhost:8080/"
        },
        "id": "QNMcIE1KHxgJ",
        "outputId": "10b820aa-6730-4d5a-ce58-4ef872db0e48"
      },
      "execution_count": 72,
      "outputs": [
        {
          "output_type": "execute_result",
          "data": {
            "text/plain": [
              "{'item0': 'cake', 'item1': 'bread', 'item2': 'milk'}"
            ]
          },
          "metadata": {},
          "execution_count": 72
        }
      ]
    },
    {
      "cell_type": "code",
      "source": [
        "vet['k3']['item1']"
      ],
      "metadata": {
        "colab": {
          "base_uri": "https://localhost:8080/",
          "height": 36
        },
        "id": "wocgZBmgIEmT",
        "outputId": "5275baba-dab6-4343-da3f-c64a00a710c1"
      },
      "execution_count": 73,
      "outputs": [
        {
          "output_type": "execute_result",
          "data": {
            "text/plain": [
              "'bread'"
            ],
            "application/vnd.google.colaboratory.intrinsic+json": {
              "type": "string"
            }
          },
          "metadata": {},
          "execution_count": 73
        }
      ]
    },
    {
      "cell_type": "markdown",
      "source": [
        "as py is flexible we can also do this"
      ],
      "metadata": {
        "id": "Fkr9W4z6IjYp"
      }
    },
    {
      "cell_type": "code",
      "source": [
        "vet['k3']['item0'].upper()"
      ],
      "metadata": {
        "colab": {
          "base_uri": "https://localhost:8080/",
          "height": 36
        },
        "id": "Gdq3OSqaImc4",
        "outputId": "26f1c533-828a-4c34-f35a-8ac4641fc4be"
      },
      "execution_count": 75,
      "outputs": [
        {
          "output_type": "execute_result",
          "data": {
            "text/plain": [
              "'CAKE'"
            ],
            "application/vnd.google.colaboratory.intrinsic+json": {
              "type": "string"
            }
          },
          "metadata": {},
          "execution_count": 75
        }
      ]
    },
    {
      "cell_type": "markdown",
      "source": [
        "and we can also add an key and value to the dict without editing that line"
      ],
      "metadata": {
        "id": "OXQbyzQKI5bh"
      }
    },
    {
      "cell_type": "code",
      "source": [
        "vet['k4']='just an example'"
      ],
      "metadata": {
        "id": "FlKRHyl7JEtH"
      },
      "execution_count": 76,
      "outputs": []
    },
    {
      "cell_type": "code",
      "source": [
        "vet"
      ],
      "metadata": {
        "colab": {
          "base_uri": "https://localhost:8080/"
        },
        "id": "4e7bLQViJLwM",
        "outputId": "adecbf23-07a2-4802-ddd4-32fbdfdd2f1e"
      },
      "execution_count": 77,
      "outputs": [
        {
          "output_type": "execute_result",
          "data": {
            "text/plain": [
              "{'k1': 123,\n",
              " 'k2': [66, 77, 33],\n",
              " 'k3': {'item0': 'cake', 'item1': 'bread', 'item2': 'milk'},\n",
              " 'k4': 'just an example'}"
            ]
          },
          "metadata": {},
          "execution_count": 77
        }
      ]
    },
    {
      "cell_type": "markdown",
      "source": [
        "we can also add and substract the values"
      ],
      "metadata": {
        "id": "yxpBBRb4JmrO"
      }
    },
    {
      "cell_type": "code",
      "source": [
        "vet['k1'] -=123"
      ],
      "metadata": {
        "id": "FWoWLmwvJeMt"
      },
      "execution_count": 78,
      "outputs": []
    },
    {
      "cell_type": "code",
      "source": [
        "vet"
      ],
      "metadata": {
        "colab": {
          "base_uri": "https://localhost:8080/"
        },
        "id": "ybFF05OgJkTA",
        "outputId": "e6a42109-c53d-4de0-b83d-b6c743a8906d"
      },
      "execution_count": 79,
      "outputs": [
        {
          "output_type": "execute_result",
          "data": {
            "text/plain": [
              "{'k1': 0,\n",
              " 'k2': [66, 77, 33],\n",
              " 'k3': {'item0': 'cake', 'item1': 'bread', 'item2': 'milk'},\n",
              " 'k4': 'just an example'}"
            ]
          },
          "metadata": {},
          "execution_count": 79
        }
      ]
    },
    {
      "cell_type": "markdown",
      "source": [
        "and we can also add (-) values"
      ],
      "metadata": {
        "id": "0_XdAWpWKTgA"
      }
    },
    {
      "cell_type": "code",
      "source": [
        "vet['k1'] += -123"
      ],
      "metadata": {
        "id": "UXcBDHE0J7X5"
      },
      "execution_count": 88,
      "outputs": []
    },
    {
      "cell_type": "code",
      "source": [
        "vet"
      ],
      "metadata": {
        "colab": {
          "base_uri": "https://localhost:8080/"
        },
        "id": "wDVaQz1HJ_4g",
        "outputId": "76a0ffc2-d84f-46cc-f89a-0d2c5311fc96"
      },
      "execution_count": 89,
      "outputs": [
        {
          "output_type": "execute_result",
          "data": {
            "text/plain": [
              "{'k1': -123,\n",
              " 'k2': [66, 77, 33],\n",
              " 'k3': {'item0': 'cake', 'item1': 'bread', 'item2': 'milk'},\n",
              " 'k4': 'just an example'}"
            ]
          },
          "metadata": {},
          "execution_count": 89
        }
      ]
    },
    {
      "cell_type": "markdown",
      "source": [
        "and now we learn how to call keys, values and items"
      ],
      "metadata": {
        "id": "OmclBRekKi2U"
      }
    },
    {
      "cell_type": "code",
      "source": [
        "vet.keys()"
      ],
      "metadata": {
        "colab": {
          "base_uri": "https://localhost:8080/"
        },
        "id": "1y_lMZ8jKnQh",
        "outputId": "7da0e73c-f9b9-4fd7-ada8-c60f6c00ea24"
      },
      "execution_count": 92,
      "outputs": [
        {
          "output_type": "execute_result",
          "data": {
            "text/plain": [
              "dict_keys(['k1', 'k2', 'k3', 'k4'])"
            ]
          },
          "metadata": {},
          "execution_count": 92
        }
      ]
    },
    {
      "cell_type": "code",
      "source": [
        "vet.values()"
      ],
      "metadata": {
        "colab": {
          "base_uri": "https://localhost:8080/"
        },
        "id": "uBxTd5O1Kr8K",
        "outputId": "619f34e2-2c91-421c-e090-a23949b5e830"
      },
      "execution_count": 93,
      "outputs": [
        {
          "output_type": "execute_result",
          "data": {
            "text/plain": [
              "dict_values([-123, [66, 77, 33], {'item0': 'cake', 'item1': 'bread', 'item2': 'milk'}, 'just an example'])"
            ]
          },
          "metadata": {},
          "execution_count": 93
        }
      ]
    },
    {
      "cell_type": "code",
      "source": [
        "vet.items()"
      ],
      "metadata": {
        "colab": {
          "base_uri": "https://localhost:8080/"
        },
        "id": "djgk1SGhKu22",
        "outputId": "433afc06-c92e-445f-c2cb-ad43f1e11af6"
      },
      "execution_count": 94,
      "outputs": [
        {
          "output_type": "execute_result",
          "data": {
            "text/plain": [
              "dict_items([('k1', -123), ('k2', [66, 77, 33]), ('k3', {'item0': 'cake', 'item1': 'bread', 'item2': 'milk'}), ('k4', 'just an example')])"
            ]
          },
          "metadata": {},
          "execution_count": 94
        }
      ]
    }
  ]
}