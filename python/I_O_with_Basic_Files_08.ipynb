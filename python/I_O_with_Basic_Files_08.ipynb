{
  "nbformat": 4,
  "nbformat_minor": 0,
  "metadata": {
    "colab": {
      "provenance": [],
      "collapsed_sections": []
    },
    "kernelspec": {
      "name": "python3",
      "display_name": "Python 3"
    },
    "language_info": {
      "name": "python"
    }
  },
  "cells": [
    {
      "cell_type": "code",
      "source": [
        "%%writefile tel.txt\n",
        "hello this is the text file need to \n",
        "be in the file for the practice purpose"
      ],
      "metadata": {
        "colab": {
          "base_uri": "https://localhost:8080/"
        },
        "id": "RdS2SkNv19VP",
        "outputId": "a2e4acab-0477-4caf-e7cc-58a49b51e97a"
      },
      "execution_count": 1,
      "outputs": [
        {
          "output_type": "stream",
          "name": "stdout",
          "text": [
            "Overwriting tel.txt\n"
          ]
        }
      ]
    },
    {
      "cell_type": "code",
      "source": [
        "tel=open('tel.txt')"
      ],
      "metadata": {
        "id": "cwWMH-Jm2AIV"
      },
      "execution_count": 2,
      "outputs": []
    },
    {
      "cell_type": "code",
      "source": [
        "tel.read()"
      ],
      "metadata": {
        "colab": {
          "base_uri": "https://localhost:8080/",
          "height": 36
        },
        "id": "9opg_iR42SUJ",
        "outputId": "2ef85d63-b8b6-4045-d40b-63eb4375b224"
      },
      "execution_count": 3,
      "outputs": [
        {
          "output_type": "execute_result",
          "data": {
            "text/plain": [
              "'hello this is the text file need to \\nbe in the file for the practice purpose\\n'"
            ],
            "application/vnd.google.colaboratory.intrinsic+json": {
              "type": "string"
            }
          },
          "metadata": {},
          "execution_count": 3
        }
      ]
    },
    {
      "cell_type": "markdown",
      "source": [
        "opening a file with out savings leads to this"
      ],
      "metadata": {
        "id": "6k4XeRrk2bfw"
      }
    },
    {
      "cell_type": "code",
      "source": [
        "let=open('let.txt')"
      ],
      "metadata": {
        "colab": {
          "base_uri": "https://localhost:8080/",
          "height": 172
        },
        "id": "-W5i27_Y2fh_",
        "outputId": "bdcbd616-b196-4104-d9f9-6577a84e1749"
      },
      "execution_count": 4,
      "outputs": [
        {
          "output_type": "error",
          "ename": "FileNotFoundError",
          "evalue": "ignored",
          "traceback": [
            "\u001b[0;31m---------------------------------------------------------------------------\u001b[0m",
            "\u001b[0;31mFileNotFoundError\u001b[0m                         Traceback (most recent call last)",
            "\u001b[0;32m<ipython-input-4-5914c0047456>\u001b[0m in \u001b[0;36m<module>\u001b[0;34m\u001b[0m\n\u001b[0;32m----> 1\u001b[0;31m \u001b[0mlet\u001b[0m\u001b[0;34m=\u001b[0m\u001b[0mopen\u001b[0m\u001b[0;34m(\u001b[0m\u001b[0;34m'let.txt'\u001b[0m\u001b[0;34m)\u001b[0m\u001b[0;34m\u001b[0m\u001b[0;34m\u001b[0m\u001b[0m\n\u001b[0m",
            "\u001b[0;31mFileNotFoundError\u001b[0m: [Errno 2] No such file or directory: 'let.txt'"
          ]
        }
      ]
    },
    {
      "cell_type": "code",
      "source": [
        "tel.read()"
      ],
      "metadata": {
        "colab": {
          "base_uri": "https://localhost:8080/",
          "height": 36
        },
        "id": "lKS2TJQU2mQQ",
        "outputId": "6976de5c-b33d-4fa4-b505-7b01b831768d"
      },
      "execution_count": 5,
      "outputs": [
        {
          "output_type": "execute_result",
          "data": {
            "text/plain": [
              "''"
            ],
            "application/vnd.google.colaboratory.intrinsic+json": {
              "type": "string"
            }
          },
          "metadata": {},
          "execution_count": 5
        }
      ]
    },
    {
      "cell_type": "markdown",
      "source": [
        "this happens because the cursor position is at the end of the text file to reset this we need to do "
      ],
      "metadata": {
        "id": "nDAHb2kT3H7F"
      }
    },
    {
      "cell_type": "code",
      "source": [
        "tel.seek(0)"
      ],
      "metadata": {
        "colab": {
          "base_uri": "https://localhost:8080/"
        },
        "id": "WvkyNo8r3QP-",
        "outputId": "31a1c11a-330a-4ad2-dd95-e772c261a2eb"
      },
      "execution_count": 23,
      "outputs": [
        {
          "output_type": "execute_result",
          "data": {
            "text/plain": [
              "0"
            ]
          },
          "metadata": {},
          "execution_count": 23
        }
      ]
    },
    {
      "cell_type": "markdown",
      "source": [
        "then this happens"
      ],
      "metadata": {
        "id": "VMoCxmwA3SkL"
      }
    },
    {
      "cell_type": "code",
      "source": [
        "tel.read()"
      ],
      "metadata": {
        "colab": {
          "base_uri": "https://localhost:8080/",
          "height": 36
        },
        "id": "320FKgIP3agj",
        "outputId": "2c0359c4-1ff4-4133-8cf6-b368bd24b56e"
      },
      "execution_count": 20,
      "outputs": [
        {
          "output_type": "execute_result",
          "data": {
            "text/plain": [
              "'hello this is the text file need to \\nbe in the file for the practice purpose\\n'"
            ],
            "application/vnd.google.colaboratory.intrinsic+json": {
              "type": "string"
            }
          },
          "metadata": {},
          "execution_count": 20
        }
      ]
    },
    {
      "cell_type": "markdown",
      "source": [
        "keep in mind if you ever want to read the file again you need to reset that same file"
      ],
      "metadata": {
        "id": "7mqo50Pt3ord"
      }
    },
    {
      "cell_type": "code",
      "source": [
        "telp=tel.read()"
      ],
      "metadata": {
        "id": "YP6QMfbe3xdW"
      },
      "execution_count": 24,
      "outputs": []
    },
    {
      "cell_type": "code",
      "source": [
        "telp"
      ],
      "metadata": {
        "colab": {
          "base_uri": "https://localhost:8080/",
          "height": 36
        },
        "id": "J8a5TZbk4Ax3",
        "outputId": "ac84b544-f34a-4eea-9705-482ef6ae087c"
      },
      "execution_count": 25,
      "outputs": [
        {
          "output_type": "execute_result",
          "data": {
            "text/plain": [
              "'hello this is the text file need to \\nbe in the file for the practice purpose\\n'"
            ],
            "application/vnd.google.colaboratory.intrinsic+json": {
              "type": "string"
            }
          },
          "metadata": {},
          "execution_count": 25
        }
      ]
    },
    {
      "cell_type": "code",
      "source": [
        "tel.seek(0)"
      ],
      "metadata": {
        "colab": {
          "base_uri": "https://localhost:8080/"
        },
        "id": "tQ_dGABIpQfX",
        "outputId": "3b6a1e7a-64f5-4599-cc19-30847f21b714"
      },
      "execution_count": 26,
      "outputs": [
        {
          "output_type": "execute_result",
          "data": {
            "text/plain": [
              "0"
            ]
          },
          "metadata": {},
          "execution_count": 26
        }
      ]
    },
    {
      "cell_type": "code",
      "source": [
        "tel.readlines()"
      ],
      "metadata": {
        "colab": {
          "base_uri": "https://localhost:8080/"
        },
        "id": "ASLFb3ryplqn",
        "outputId": "6df6e951-93db-4762-966c-bf8d418cdec6"
      },
      "execution_count": 27,
      "outputs": [
        {
          "output_type": "execute_result",
          "data": {
            "text/plain": [
              "['hello this is the text file need to \\n',\n",
              " 'be in the file for the practice purpose\\n']"
            ]
          },
          "metadata": {},
          "execution_count": 27
        }
      ]
    },
    {
      "cell_type": "code",
      "source": [
        "tel.close()"
      ],
      "metadata": {
        "id": "_F_lHui0qh_k"
      },
      "execution_count": 28,
      "outputs": []
    },
    {
      "cell_type": "code",
      "source": [
        "with open('tel.txt') as that:\n",
        "    contents = that.read()"
      ],
      "metadata": {
        "id": "kaM6pOabteqX"
      },
      "execution_count": 29,
      "outputs": []
    },
    {
      "cell_type": "code",
      "source": [
        "contents"
      ],
      "metadata": {
        "colab": {
          "base_uri": "https://localhost:8080/",
          "height": 36
        },
        "id": "1YYVVq5Kun7a",
        "outputId": "de3aecb0-c915-4524-92a3-e2e548daa0ff"
      },
      "execution_count": 30,
      "outputs": [
        {
          "output_type": "execute_result",
          "data": {
            "text/plain": [
              "'hello this is the text file need to \\nbe in the file for the practice purpose\\n'"
            ],
            "application/vnd.google.colaboratory.intrinsic+json": {
              "type": "string"
            }
          },
          "metadata": {},
          "execution_count": 30
        }
      ]
    },
    {
      "cell_type": "code",
      "source": [
        "with open('tel.txt',mode='r') as tel:\n",
        "    contents=tel.read()"
      ],
      "metadata": {
        "id": "KeiaR0CHvLZ6"
      },
      "execution_count": 31,
      "outputs": []
    },
    {
      "cell_type": "code",
      "source": [
        "contents"
      ],
      "metadata": {
        "colab": {
          "base_uri": "https://localhost:8080/",
          "height": 36
        },
        "id": "1qdcepPzv68m",
        "outputId": "7167e867-4fb9-49b9-c7e2-6f4a818b2e5a"
      },
      "execution_count": 32,
      "outputs": [
        {
          "output_type": "execute_result",
          "data": {
            "text/plain": [
              "'hello this is the text file need to \\nbe in the file for the practice purpose\\n'"
            ],
            "application/vnd.google.colaboratory.intrinsic+json": {
              "type": "string"
            }
          },
          "metadata": {},
          "execution_count": 32
        }
      ]
    },
    {
      "cell_type": "code",
      "source": [
        "%%writefile that.txt\n",
        "one clap\n",
        "two clap \n",
        "three clap"
      ],
      "metadata": {
        "colab": {
          "base_uri": "https://localhost:8080/"
        },
        "id": "YRoOrXQP1Qti",
        "outputId": "e8f0aa31-f5fc-49c3-adeb-f558075b7062"
      },
      "execution_count": 33,
      "outputs": [
        {
          "output_type": "stream",
          "name": "stdout",
          "text": [
            "Writing that.txt\n"
          ]
        }
      ]
    },
    {
      "cell_type": "code",
      "source": [
        "with open('that.txt',mode='r') as f:\n",
        "  print(f.read())"
      ],
      "metadata": {
        "colab": {
          "base_uri": "https://localhost:8080/"
        },
        "id": "F0NPnVuG1c-0",
        "outputId": "7bc5bf82-41e1-4c12-ab67-0e81945ed0c7"
      },
      "execution_count": 38,
      "outputs": [
        {
          "output_type": "stream",
          "name": "stdout",
          "text": [
            "one clap\n",
            "two clap \n",
            "three clap\n",
            "\n"
          ]
        }
      ]
    },
    {
      "cell_type": "code",
      "source": [
        "with open('that.txt',mode='a') as f:\n",
        "  f.write('four clap')"
      ],
      "metadata": {
        "id": "Zhbh7y_n12Af"
      },
      "execution_count": 40,
      "outputs": []
    },
    {
      "cell_type": "code",
      "source": [
        "with open('that.txt',mode='r') as f:\n",
        "  print(f.read())"
      ],
      "metadata": {
        "colab": {
          "base_uri": "https://localhost:8080/"
        },
        "id": "3hT_2K_v2Xs_",
        "outputId": "33388ea7-5162-46f7-821d-752ab678fb57"
      },
      "execution_count": 43,
      "outputs": [
        {
          "output_type": "stream",
          "name": "stdout",
          "text": [
            "one clap\n",
            "two clap \n",
            "three clap\n",
            "four clap\n"
          ]
        }
      ]
    },
    {
      "cell_type": "markdown",
      "source": [
        "write mode overrides the file or creates the file"
      ],
      "metadata": {
        "id": "5ZKzJVMv2yav"
      }
    },
    {
      "cell_type": "code",
      "source": [
        "with open('dsjlfj.txt',mode='w') as t:\n",
        "  t.write('i created the file')"
      ],
      "metadata": {
        "id": "yrS3Z8we24w_"
      },
      "execution_count": 46,
      "outputs": []
    },
    {
      "cell_type": "markdown",
      "source": [
        "if we ad tried to do the same thing with a different mode, such as the R or just A, we would have gotten an error"
      ],
      "metadata": {
        "id": "ZgC-gRkJ3ZC-"
      }
    },
    {
      "cell_type": "code",
      "source": [
        "with open('dsjlfj.txt',mode='r') as t:\n",
        "  print(t.read())"
      ],
      "metadata": {
        "colab": {
          "base_uri": "https://localhost:8080/"
        },
        "id": "rFMirH9F3p8V",
        "outputId": "9837360b-f177-4709-8f99-57b6a6eebde2"
      },
      "execution_count": 47,
      "outputs": [
        {
          "output_type": "stream",
          "name": "stdout",
          "text": [
            "i created the file\n"
          ]
        }
      ]
    }
  ]
}