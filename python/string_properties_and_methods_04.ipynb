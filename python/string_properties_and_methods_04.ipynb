{
  "nbformat": 4,
  "nbformat_minor": 0,
  "metadata": {
    "colab": {
      "provenance": []
    },
    "kernelspec": {
      "name": "python3",
      "display_name": "Python 3"
    },
    "language_info": {
      "name": "python"
    }
  },
  "cells": [
    {
      "cell_type": "code",
      "execution_count": 1,
      "metadata": {
        "id": "aq5Zb_v74wic"
      },
      "outputs": [],
      "source": [
        "name='sam'"
      ]
    },
    {
      "cell_type": "markdown",
      "source": [
        "if we wanna change the name to pam we need to use string concatenation rather than using name[0]='p'\n"
      ],
      "metadata": {
        "id": "JXBu52P4QBZC"
      }
    },
    {
      "cell_type": "code",
      "source": [
        "last_letters=name[1:]"
      ],
      "metadata": {
        "id": "4kUxpzjnP8HS"
      },
      "execution_count": 2,
      "outputs": []
    },
    {
      "cell_type": "code",
      "source": [
        "last_letters"
      ],
      "metadata": {
        "colab": {
          "base_uri": "https://localhost:8080/",
          "height": 36
        },
        "id": "syKQIcVcQHj2",
        "outputId": "8c209a7f-8dbd-42dc-f5e4-776c4647431e"
      },
      "execution_count": 3,
      "outputs": [
        {
          "output_type": "execute_result",
          "data": {
            "text/plain": [
              "'am'"
            ],
            "application/vnd.google.colaboratory.intrinsic+json": {
              "type": "string"
            }
          },
          "metadata": {},
          "execution_count": 3
        }
      ]
    },
    {
      "cell_type": "code",
      "source": [
        "'P'+last_letters\n",
        "#this is how we concatenate with the strings"
      ],
      "metadata": {
        "colab": {
          "base_uri": "https://localhost:8080/",
          "height": 36
        },
        "id": "OUaRq20oQLeh",
        "outputId": "6be7567c-41a2-4f43-e26f-bc77fd0735cb"
      },
      "execution_count": 4,
      "outputs": [
        {
          "output_type": "execute_result",
          "data": {
            "text/plain": [
              "'Pam'"
            ],
            "application/vnd.google.colaboratory.intrinsic+json": {
              "type": "string"
            }
          },
          "metadata": {},
          "execution_count": 4
        }
      ]
    },
    {
      "cell_type": "markdown",
      "source": [
        "even spaces are counted in the concatenation lets explore some more examples"
      ],
      "metadata": {
        "id": "fWCxbuQ_QkNt"
      }
    },
    {
      "cell_type": "code",
      "source": [
        "x='Hello World'"
      ],
      "metadata": {
        "id": "udgtkxDCQxZ3"
      },
      "execution_count": 5,
      "outputs": []
    },
    {
      "cell_type": "code",
      "source": [
        "x + \"it is beautiful outside\""
      ],
      "metadata": {
        "colab": {
          "base_uri": "https://localhost:8080/",
          "height": 36
        },
        "id": "sq_veKMcS_lP",
        "outputId": "a516da0a-1beb-4362-912a-27c29db2510c"
      },
      "execution_count": 6,
      "outputs": [
        {
          "output_type": "execute_result",
          "data": {
            "text/plain": [
              "'Hello Worldit is beautiful outside'"
            ],
            "application/vnd.google.colaboratory.intrinsic+json": {
              "type": "string"
            }
          },
          "metadata": {},
          "execution_count": 6
        }
      ]
    },
    {
      "cell_type": "markdown",
      "source": [
        "the concatenation is case sensitive like if we don't include space it does'nt show the space"
      ],
      "metadata": {
        "id": "18q4VajSTOPA"
      }
    },
    {
      "cell_type": "code",
      "source": [
        "x+\" it is beautiful outside\""
      ],
      "metadata": {
        "colab": {
          "base_uri": "https://localhost:8080/",
          "height": 36
        },
        "id": "vnUI-PJaTfED",
        "outputId": "0cc793eb-080b-4f4e-d2a7-06d290e6abb0"
      },
      "execution_count": 7,
      "outputs": [
        {
          "output_type": "execute_result",
          "data": {
            "text/plain": [
              "'Hello World it is beautiful outside'"
            ],
            "application/vnd.google.colaboratory.intrinsic+json": {
              "type": "string"
            }
          },
          "metadata": {},
          "execution_count": 7
        }
      ]
    },
    {
      "cell_type": "markdown",
      "source": [
        "so if we wanna run the x multiple time or multiply we can re-assign x"
      ],
      "metadata": {
        "id": "xB_4NowJTn83"
      }
    },
    {
      "cell_type": "code",
      "source": [
        "x=x+\" it is beautiful outside\""
      ],
      "metadata": {
        "id": "BgYmo4dIT39q"
      },
      "execution_count": 8,
      "outputs": []
    },
    {
      "cell_type": "code",
      "source": [
        "x"
      ],
      "metadata": {
        "colab": {
          "base_uri": "https://localhost:8080/",
          "height": 36
        },
        "id": "Qxlaz8l_T_n-",
        "outputId": "3b184fe9-7071-49f6-be47-5093953a0650"
      },
      "execution_count": 9,
      "outputs": [
        {
          "output_type": "execute_result",
          "data": {
            "text/plain": [
              "'Hello World it is beautiful outside'"
            ],
            "application/vnd.google.colaboratory.intrinsic+json": {
              "type": "string"
            }
          },
          "metadata": {},
          "execution_count": 9
        }
      ]
    },
    {
      "cell_type": "markdown",
      "source": [
        "if we want to multiply"
      ],
      "metadata": {
        "id": "-n-X22geUt_b"
      }
    },
    {
      "cell_type": "code",
      "source": [
        "x*10"
      ],
      "metadata": {
        "colab": {
          "base_uri": "https://localhost:8080/",
          "height": 55
        },
        "id": "IPpIo_TFUs2d",
        "outputId": "9bf6d35d-a350-4637-bf3a-293d3f645d8d"
      },
      "execution_count": 10,
      "outputs": [
        {
          "output_type": "execute_result",
          "data": {
            "text/plain": [
              "'Hello World it is beautiful outsideHello World it is beautiful outsideHello World it is beautiful outsideHello World it is beautiful outsideHello World it is beautiful outsideHello World it is beautiful outsideHello World it is beautiful outsideHello World it is beautiful outsideHello World it is beautiful outsideHello World it is beautiful outside'"
            ],
            "application/vnd.google.colaboratory.intrinsic+json": {
              "type": "string"
            }
          },
          "metadata": {},
          "execution_count": 10
        }
      ]
    },
    {
      "cell_type": "markdown",
      "source": [
        "something we need to keep in mind when performing string concatenation (or) string multipliation is that. we get errors if we try to contatenate a number with string example is given below"
      ],
      "metadata": {
        "id": "vByhx3lhXZym"
      }
    },
    {
      "cell_type": "code",
      "source": [
        "2+3"
      ],
      "metadata": {
        "colab": {
          "base_uri": "https://localhost:8080/"
        },
        "id": "GBzNBW5OXvGS",
        "outputId": "53eff01d-da12-44db-8a46-88dbf4b1ed88"
      },
      "execution_count": 11,
      "outputs": [
        {
          "output_type": "execute_result",
          "data": {
            "text/plain": [
              "5"
            ]
          },
          "metadata": {},
          "execution_count": 11
        }
      ]
    },
    {
      "cell_type": "markdown",
      "source": [
        "but when we run"
      ],
      "metadata": {
        "id": "aQaHbqgxX2q-"
      }
    },
    {
      "cell_type": "code",
      "source": [
        "'2'+'3'"
      ],
      "metadata": {
        "colab": {
          "base_uri": "https://localhost:8080/",
          "height": 36
        },
        "id": "8zDPXyN5X5Jj",
        "outputId": "450d2bf2-fefb-41c3-c8d0-cae7cc57b4b9"
      },
      "execution_count": 12,
      "outputs": [
        {
          "output_type": "execute_result",
          "data": {
            "text/plain": [
              "'23'"
            ],
            "application/vnd.google.colaboratory.intrinsic+json": {
              "type": "string"
            }
          },
          "metadata": {},
          "execution_count": 12
        }
      ]
    },
    {
      "cell_type": "markdown",
      "source": [
        "this is a callback to dynamic typing where we had to be really careful about data types"
      ],
      "metadata": {
        "id": "W5_36UKkX9bT"
      }
    },
    {
      "cell_type": "markdown",
      "source": [
        "this is a prime example of both good and bad of python's abaility to be very flexible."
      ],
      "metadata": {
        "id": "MPLO-D_CYN0t"
      }
    },
    {
      "cell_type": "markdown",
      "source": [
        "python usually have built in methods let's discuss some built in string methods and these methods themselves are exentially functions"
      ],
      "metadata": {
        "id": "5GpuQrsQYZRU"
      }
    },
    {
      "cell_type": "code",
      "source": [
        "x='Hello World'"
      ],
      "metadata": {
        "id": "1Q9DcHhJYuMs"
      },
      "execution_count": 13,
      "outputs": []
    },
    {
      "cell_type": "code",
      "source": [
        "x.upper()"
      ],
      "metadata": {
        "colab": {
          "base_uri": "https://localhost:8080/",
          "height": 36
        },
        "id": "NK0jDCL5Y1zL",
        "outputId": "b5374ceb-e2ae-4b31-dc5b-341b92ace4c0"
      },
      "execution_count": 14,
      "outputs": [
        {
          "output_type": "execute_result",
          "data": {
            "text/plain": [
              "'HELLO WORLD'"
            ],
            "application/vnd.google.colaboratory.intrinsic+json": {
              "type": "string"
            }
          },
          "metadata": {},
          "execution_count": 14
        }
      ]
    },
    {
      "cell_type": "markdown",
      "source": [
        "this method is not in place which does'nt affect the orginal string."
      ],
      "metadata": {
        "id": "P6o6LHGqZ3dB"
      }
    },
    {
      "cell_type": "code",
      "source": [
        "x"
      ],
      "metadata": {
        "colab": {
          "base_uri": "https://localhost:8080/",
          "height": 36
        },
        "id": "tUX3qc9haAQc",
        "outputId": "b878c04a-b0aa-49e2-d5c5-e3f81450a4b0"
      },
      "execution_count": 15,
      "outputs": [
        {
          "output_type": "execute_result",
          "data": {
            "text/plain": [
              "'Hello World'"
            ],
            "application/vnd.google.colaboratory.intrinsic+json": {
              "type": "string"
            }
          },
          "metadata": {},
          "execution_count": 15
        }
      ]
    },
    {
      "cell_type": "markdown",
      "source": [
        "if we did wanna effect the orgianal string. we'd have to reassign it like this "
      ],
      "metadata": {
        "id": "HT8AlBBSaCCH"
      }
    },
    {
      "cell_type": "code",
      "source": [
        "x=x.upper()"
      ],
      "metadata": {
        "id": "ALCUe70Yaa9k"
      },
      "execution_count": 16,
      "outputs": []
    },
    {
      "cell_type": "markdown",
      "source": [
        "now we get"
      ],
      "metadata": {
        "id": "1v8cW07Xag8H"
      }
    },
    {
      "cell_type": "code",
      "source": [
        "x"
      ],
      "metadata": {
        "colab": {
          "base_uri": "https://localhost:8080/",
          "height": 36
        },
        "id": "p9NE8Camai7e",
        "outputId": "f2dd85df-3fb0-4c3b-96a2-01be68e4553c"
      },
      "execution_count": 17,
      "outputs": [
        {
          "output_type": "execute_result",
          "data": {
            "text/plain": [
              "'HELLO WORLD'"
            ],
            "application/vnd.google.colaboratory.intrinsic+json": {
              "type": "string"
            }
          },
          "metadata": {},
          "execution_count": 17
        }
      ]
    },
    {
      "cell_type": "code",
      "source": [
        "x.lower()"
      ],
      "metadata": {
        "colab": {
          "base_uri": "https://localhost:8080/",
          "height": 36
        },
        "id": "t-cKq7eMb1WX",
        "outputId": "45e99a11-3bfa-47ea-acd7-d5b68298719b"
      },
      "execution_count": 18,
      "outputs": [
        {
          "output_type": "execute_result",
          "data": {
            "text/plain": [
              "'hello world'"
            ],
            "application/vnd.google.colaboratory.intrinsic+json": {
              "type": "string"
            }
          },
          "metadata": {},
          "execution_count": 18
        }
      ]
    },
    {
      "cell_type": "markdown",
      "source": [
        "and then there is the split method if"
      ],
      "metadata": {
        "id": "uIxnUSFOcZE_"
      }
    },
    {
      "cell_type": "code",
      "source": [
        "x='hai this is a string'"
      ],
      "metadata": {
        "id": "RgaxsubxcRzL"
      },
      "execution_count": 24,
      "outputs": []
    },
    {
      "cell_type": "markdown",
      "source": [
        "then with split"
      ],
      "metadata": {
        "id": "3-7VfLwychmf"
      }
    },
    {
      "cell_type": "code",
      "source": [
        "x.split()"
      ],
      "metadata": {
        "colab": {
          "base_uri": "https://localhost:8080/"
        },
        "id": "RzsFLWGhcUqV",
        "outputId": "433a929d-75da-4925-8e00-c511dbe7e875"
      },
      "execution_count": 28,
      "outputs": [
        {
          "output_type": "execute_result",
          "data": {
            "text/plain": [
              "['hai', 'this', 'is', 'a', 'string']"
            ]
          },
          "metadata": {},
          "execution_count": 28
        }
      ]
    },
    {
      "cell_type": "code",
      "source": [
        "x.split('i')"
      ],
      "metadata": {
        "colab": {
          "base_uri": "https://localhost:8080/"
        },
        "id": "3OKZatCOdEfc",
        "outputId": "6c332417-7147-4446-9a09-5d91f33f05ad"
      },
      "execution_count": 29,
      "outputs": [
        {
          "output_type": "execute_result",
          "data": {
            "text/plain": [
              "['ha', ' th', 's ', 's a str', 'ng']"
            ]
          },
          "metadata": {},
          "execution_count": 29
        }
      ]
    }
  ]
}