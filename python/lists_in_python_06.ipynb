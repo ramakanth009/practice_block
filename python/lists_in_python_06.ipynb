{
  "nbformat": 4,
  "nbformat_minor": 0,
  "metadata": {
    "colab": {
      "provenance": [],
      "collapsed_sections": []
    },
    "kernelspec": {
      "name": "python3",
      "display_name": "Python 3"
    },
    "language_info": {
      "name": "python"
    }
  },
  "cells": [
    {
      "cell_type": "markdown",
      "source": [
        "lists are ordered sequence that can hold a variety of object types"
      ],
      "metadata": {
        "id": "wK1GaJy4xNeq"
      }
    },
    {
      "cell_type": "code",
      "source": [
        "my_list=[1,2,3]"
      ],
      "metadata": {
        "id": "BFu7gyLLxfD_"
      },
      "execution_count": 1,
      "outputs": []
    },
    {
      "cell_type": "code",
      "source": [
        "my_list=['string',1,2,3]"
      ],
      "metadata": {
        "id": "Qx7ObhD-xkL-"
      },
      "execution_count": 2,
      "outputs": []
    },
    {
      "cell_type": "code",
      "source": [
        "my_list"
      ],
      "metadata": {
        "colab": {
          "base_uri": "https://localhost:8080/"
        },
        "id": "Oq6eatiCx6YC",
        "outputId": "75ddb8db-c5b7-42b5-ac54-7758c3717969"
      },
      "execution_count": 3,
      "outputs": [
        {
          "output_type": "execute_result",
          "data": {
            "text/plain": [
              "['string', 1, 2, 3]"
            ]
          },
          "metadata": {},
          "execution_count": 3
        }
      ]
    },
    {
      "cell_type": "code",
      "source": [
        "len(my_list)"
      ],
      "metadata": {
        "colab": {
          "base_uri": "https://localhost:8080/"
        },
        "id": "4wlPo4wEySVJ",
        "outputId": "85ad4f9c-a367-488a-d594-47302a09e1f7"
      },
      "execution_count": 4,
      "outputs": [
        {
          "output_type": "execute_result",
          "data": {
            "text/plain": [
              "4"
            ]
          },
          "metadata": {},
          "execution_count": 4
        }
      ]
    },
    {
      "cell_type": "markdown",
      "source": [
        "now lets us discuss about indexing and slicing"
      ],
      "metadata": {
        "id": "AEn8erLvyYpS"
      }
    },
    {
      "cell_type": "code",
      "source": [
        "mylist=['one','two','three',4,5,6]"
      ],
      "metadata": {
        "id": "piK3u8dTycna"
      },
      "execution_count": 5,
      "outputs": []
    },
    {
      "cell_type": "code",
      "source": [
        "mylist"
      ],
      "metadata": {
        "colab": {
          "base_uri": "https://localhost:8080/"
        },
        "id": "DpKAVilFym0h",
        "outputId": "f44b4400-7013-4c66-fe5e-0f20461b71da"
      },
      "execution_count": 6,
      "outputs": [
        {
          "output_type": "execute_result",
          "data": {
            "text/plain": [
              "['one', 'two', 'three', 4, 5, 6]"
            ]
          },
          "metadata": {},
          "execution_count": 6
        }
      ]
    },
    {
      "cell_type": "code",
      "source": [
        "mylist[0]"
      ],
      "metadata": {
        "colab": {
          "base_uri": "https://localhost:8080/",
          "height": 36
        },
        "id": "pp_PSG-Ky0HB",
        "outputId": "294f7d30-41db-483d-c541-76660b1aa533"
      },
      "execution_count": 7,
      "outputs": [
        {
          "output_type": "execute_result",
          "data": {
            "text/plain": [
              "'one'"
            ],
            "application/vnd.google.colaboratory.intrinsic+json": {
              "type": "string"
            }
          },
          "metadata": {},
          "execution_count": 7
        }
      ]
    },
    {
      "cell_type": "code",
      "source": [
        "mylist[1:]"
      ],
      "metadata": {
        "colab": {
          "base_uri": "https://localhost:8080/"
        },
        "id": "6MyyR-Gny5iw",
        "outputId": "aa5686ea-12c8-4dfd-8962-b9d699475347"
      },
      "execution_count": 8,
      "outputs": [
        {
          "output_type": "execute_result",
          "data": {
            "text/plain": [
              "['two', 'three', 4, 5, 6]"
            ]
          },
          "metadata": {},
          "execution_count": 8
        }
      ]
    },
    {
      "cell_type": "code",
      "source": [
        "mylist[:3]"
      ],
      "metadata": {
        "colab": {
          "base_uri": "https://localhost:8080/"
        },
        "id": "2ouAsIivy9he",
        "outputId": "26bd7836-8625-4441-87ac-f4e4b5f0063c"
      },
      "execution_count": 9,
      "outputs": [
        {
          "output_type": "execute_result",
          "data": {
            "text/plain": [
              "['one', 'two', 'three']"
            ]
          },
          "metadata": {},
          "execution_count": 9
        }
      ]
    },
    {
      "cell_type": "markdown",
      "source": [
        "we can also concatenate"
      ],
      "metadata": {
        "id": "ZtOsHbcLzMwH"
      }
    },
    {
      "cell_type": "code",
      "source": [
        "mylist=mylist+['seven']"
      ],
      "metadata": {
        "id": "lZVSQRD7zSPs"
      },
      "execution_count": 10,
      "outputs": []
    },
    {
      "cell_type": "code",
      "source": [
        "mylist+['eight']"
      ],
      "metadata": {
        "colab": {
          "base_uri": "https://localhost:8080/"
        },
        "id": "b5ANd7spzbid",
        "outputId": "a6d81ed3-2463-492b-d7db-5c0a4b07d456"
      },
      "execution_count": 11,
      "outputs": [
        {
          "output_type": "execute_result",
          "data": {
            "text/plain": [
              "['one', 'two', 'three', 4, 5, 6, 'seven', 'eight']"
            ]
          },
          "metadata": {},
          "execution_count": 11
        }
      ]
    },
    {
      "cell_type": "markdown",
      "source": [
        "we can also multiply the list and doubling is not permanent"
      ],
      "metadata": {
        "id": "xBwWGHxhzypF"
      }
    },
    {
      "cell_type": "code",
      "source": [
        "mylist*2"
      ],
      "metadata": {
        "colab": {
          "base_uri": "https://localhost:8080/"
        },
        "id": "_3POp-QVz2-k",
        "outputId": "b962a8d0-b568-4cae-c7d8-b16a4c41ba9c"
      },
      "execution_count": 12,
      "outputs": [
        {
          "output_type": "execute_result",
          "data": {
            "text/plain": [
              "['one',\n",
              " 'two',\n",
              " 'three',\n",
              " 4,\n",
              " 5,\n",
              " 6,\n",
              " 'seven',\n",
              " 'one',\n",
              " 'two',\n",
              " 'three',\n",
              " 4,\n",
              " 5,\n",
              " 6,\n",
              " 'seven']"
            ]
          },
          "metadata": {},
          "execution_count": 12
        }
      ]
    },
    {
      "cell_type": "markdown",
      "source": [
        "we can add an variable using .append"
      ],
      "metadata": {
        "id": "2kq4Iu3G0S_y"
      }
    },
    {
      "cell_type": "code",
      "source": [
        "mylist.append(9)"
      ],
      "metadata": {
        "id": "vdxxSgSH0GST"
      },
      "execution_count": 13,
      "outputs": []
    },
    {
      "cell_type": "code",
      "source": [
        "mylist"
      ],
      "metadata": {
        "colab": {
          "base_uri": "https://localhost:8080/"
        },
        "id": "FcwspFbg0OWK",
        "outputId": "bc0ab2a9-c412-41a1-c578-8968a796d46d"
      },
      "execution_count": 17,
      "outputs": [
        {
          "output_type": "execute_result",
          "data": {
            "text/plain": [
              "['one', 'two', 'three', 4, 5, 6, 'seven', 9, 10]"
            ]
          },
          "metadata": {},
          "execution_count": 17
        }
      ]
    },
    {
      "cell_type": "code",
      "source": [
        "mylist.append(10)"
      ],
      "metadata": {
        "id": "jkDDPlRN0RH1"
      },
      "execution_count": 15,
      "outputs": []
    },
    {
      "cell_type": "code",
      "source": [
        "mylist"
      ],
      "metadata": {
        "colab": {
          "base_uri": "https://localhost:8080/"
        },
        "id": "WY787bLD0iXB",
        "outputId": "4735b633-ad7d-41e2-e7c2-f35d9b67cd4f"
      },
      "execution_count": 18,
      "outputs": [
        {
          "output_type": "execute_result",
          "data": {
            "text/plain": [
              "['one', 'two', 'three', 4, 5, 6, 'seven', 9, 10]"
            ]
          },
          "metadata": {},
          "execution_count": 18
        }
      ]
    },
    {
      "cell_type": "markdown",
      "source": [
        "and we can remove the variable using .pop and it removes the last variable"
      ],
      "metadata": {
        "id": "AUo8jSyE1El5"
      }
    },
    {
      "cell_type": "code",
      "source": [
        "mylist.pop()"
      ],
      "metadata": {
        "colab": {
          "base_uri": "https://localhost:8080/"
        },
        "id": "ufUtFzq51H3u",
        "outputId": "95ae4346-4947-45ad-cb79-ec750c8de630"
      },
      "execution_count": 19,
      "outputs": [
        {
          "output_type": "execute_result",
          "data": {
            "text/plain": [
              "10"
            ]
          },
          "metadata": {},
          "execution_count": 19
        }
      ]
    },
    {
      "cell_type": "code",
      "source": [
        "mylist"
      ],
      "metadata": {
        "colab": {
          "base_uri": "https://localhost:8080/"
        },
        "id": "cqN_DI0K1MoL",
        "outputId": "52319f4f-61ad-4106-8fdd-72f465044437"
      },
      "execution_count": 20,
      "outputs": [
        {
          "output_type": "execute_result",
          "data": {
            "text/plain": [
              "['one', 'two', 'three', 4, 5, 6, 'seven', 9]"
            ]
          },
          "metadata": {},
          "execution_count": 20
        }
      ]
    },
    {
      "cell_type": "markdown",
      "source": [
        "so we can also remove specific item or variable"
      ],
      "metadata": {
        "id": "X3FnLMm11PJ9"
      }
    },
    {
      "cell_type": "code",
      "source": [
        "mylist.pop(2)"
      ],
      "metadata": {
        "colab": {
          "base_uri": "https://localhost:8080/",
          "height": 36
        },
        "id": "N33DxRZC125l",
        "outputId": "83138c4b-8b11-4965-e98e-04a609862f61"
      },
      "execution_count": 21,
      "outputs": [
        {
          "output_type": "execute_result",
          "data": {
            "text/plain": [
              "'three'"
            ],
            "application/vnd.google.colaboratory.intrinsic+json": {
              "type": "string"
            }
          },
          "metadata": {},
          "execution_count": 21
        }
      ]
    },
    {
      "cell_type": "code",
      "source": [
        "mylist"
      ],
      "metadata": {
        "colab": {
          "base_uri": "https://localhost:8080/"
        },
        "id": "2QpZYCls153l",
        "outputId": "cbe5832b-71c1-4a3f-b8f9-e3075ba13f1b"
      },
      "execution_count": 22,
      "outputs": [
        {
          "output_type": "execute_result",
          "data": {
            "text/plain": [
              "['one', 'two', 4, 5, 6, 'seven', 9]"
            ]
          },
          "metadata": {},
          "execution_count": 22
        }
      ]
    },
    {
      "cell_type": "markdown",
      "source": [
        "note: listing indexing will return error if there is no element at that index for example"
      ],
      "metadata": {
        "id": "xbLxc1EJ2CN9"
      }
    },
    {
      "cell_type": "code",
      "source": [
        "mylist[100]"
      ],
      "metadata": {
        "colab": {
          "base_uri": "https://localhost:8080/",
          "height": 172
        },
        "id": "rb6oGeB02RyQ",
        "outputId": "7ab6656b-85bb-4791-b443-c96a12d0b160"
      },
      "execution_count": 24,
      "outputs": [
        {
          "output_type": "error",
          "ename": "IndexError",
          "evalue": "ignored",
          "traceback": [
            "\u001b[0;31m---------------------------------------------------------------------------\u001b[0m",
            "\u001b[0;31mIndexError\u001b[0m                                Traceback (most recent call last)",
            "\u001b[0;32m<ipython-input-24-64a6b3c3bed7>\u001b[0m in \u001b[0;36m<module>\u001b[0;34m\u001b[0m\n\u001b[0;32m----> 1\u001b[0;31m \u001b[0mmylist\u001b[0m\u001b[0;34m[\u001b[0m\u001b[0;36m100\u001b[0m\u001b[0;34m]\u001b[0m\u001b[0;34m\u001b[0m\u001b[0;34m\u001b[0m\u001b[0m\n\u001b[0m",
            "\u001b[0;31mIndexError\u001b[0m: list index out of range"
          ]
        }
      ]
    },
    {
      "cell_type": "markdown",
      "source": [
        "there are more use more arguments like sort and reverst"
      ],
      "metadata": {
        "id": "3skJnBMZ2jKK"
      }
    },
    {
      "cell_type": "code",
      "source": [
        "listt=['f','b','e','d','a','c']"
      ],
      "metadata": {
        "id": "a9dLbj4g3Amw"
      },
      "execution_count": 25,
      "outputs": []
    },
    {
      "cell_type": "code",
      "source": [
        "listtt=[5,2,6,4,1,3]"
      ],
      "metadata": {
        "id": "Xz3T9rFb3ULv"
      },
      "execution_count": 37,
      "outputs": []
    },
    {
      "cell_type": "code",
      "source": [
        "listt.sort()"
      ],
      "metadata": {
        "id": "FWQYuyhp3blF"
      },
      "execution_count": 27,
      "outputs": []
    },
    {
      "cell_type": "code",
      "source": [
        "listt"
      ],
      "metadata": {
        "colab": {
          "base_uri": "https://localhost:8080/"
        },
        "id": "QdLTRc6f3iqD",
        "outputId": "cb75c8f5-d26f-4bc0-b275-243b846ee50a"
      },
      "execution_count": 28,
      "outputs": [
        {
          "output_type": "execute_result",
          "data": {
            "text/plain": [
              "['a', 'b', 'c', 'd', 'e', 'f']"
            ]
          },
          "metadata": {},
          "execution_count": 28
        }
      ]
    },
    {
      "cell_type": "code",
      "source": [
        "listt.reverse()"
      ],
      "metadata": {
        "id": "vGmYMXmi3keJ"
      },
      "execution_count": 30,
      "outputs": []
    },
    {
      "cell_type": "code",
      "source": [
        "listt"
      ],
      "metadata": {
        "colab": {
          "base_uri": "https://localhost:8080/"
        },
        "id": "6wLJqU1z3oyi",
        "outputId": "a5d66a0d-06f7-43d7-a2d1-2cd6f263d945"
      },
      "execution_count": 31,
      "outputs": [
        {
          "output_type": "execute_result",
          "data": {
            "text/plain": [
              "['f', 'e', 'd', 'c', 'b', 'a']"
            ]
          },
          "metadata": {},
          "execution_count": 31
        }
      ]
    },
    {
      "cell_type": "code",
      "source": [
        "listtt.sort()"
      ],
      "metadata": {
        "id": "11ovVkIr3sK_"
      },
      "execution_count": 39,
      "outputs": []
    },
    {
      "cell_type": "code",
      "source": [
        "listtt"
      ],
      "metadata": {
        "colab": {
          "base_uri": "https://localhost:8080/"
        },
        "id": "jVY9lxeO3uPT",
        "outputId": "735fc68a-ab84-4da8-bb7a-4b9694649d56"
      },
      "execution_count": 40,
      "outputs": [
        {
          "output_type": "execute_result",
          "data": {
            "text/plain": [
              "[1, 2, 3, 4, 5, 6]"
            ]
          },
          "metadata": {},
          "execution_count": 40
        }
      ]
    },
    {
      "cell_type": "code",
      "source": [
        "listtt.reverse()"
      ],
      "metadata": {
        "id": "ZiT1fPxY3wLH"
      },
      "execution_count": 43,
      "outputs": []
    },
    {
      "cell_type": "markdown",
      "source": [
        "nesting list we can also combine group of lists together and then we can easily grab any elements with indexing"
      ],
      "metadata": {
        "id": "khfg_TZh4RnK"
      }
    },
    {
      "cell_type": "code",
      "source": [
        "lst1=[1,2,3]\n",
        "lst2=[4,5,6]\n",
        "lst3=[7,8,9]"
      ],
      "metadata": {
        "id": "BgTx7nQH4gkH"
      },
      "execution_count": 44,
      "outputs": []
    },
    {
      "cell_type": "code",
      "source": [
        "group=[lst1,lst2,lst3]"
      ],
      "metadata": {
        "id": "EPBYFbri4u4t"
      },
      "execution_count": 45,
      "outputs": []
    },
    {
      "cell_type": "code",
      "source": [
        "group"
      ],
      "metadata": {
        "colab": {
          "base_uri": "https://localhost:8080/"
        },
        "id": "S6hnqWlN45AW",
        "outputId": "b719c4dc-a2f6-4e49-ad0c-07dc01cbec5e"
      },
      "execution_count": 46,
      "outputs": [
        {
          "output_type": "execute_result",
          "data": {
            "text/plain": [
              "[[1, 2, 3], [4, 5, 6], [7, 8, 9]]"
            ]
          },
          "metadata": {},
          "execution_count": 46
        }
      ]
    },
    {
      "cell_type": "markdown",
      "source": [
        "now we canuse indexing for example"
      ],
      "metadata": {
        "id": "Ef62W0gC499l"
      }
    },
    {
      "cell_type": "code",
      "source": [
        "group[1]"
      ],
      "metadata": {
        "colab": {
          "base_uri": "https://localhost:8080/"
        },
        "id": "678y14SW45xv",
        "outputId": "5637a6c2-2f7b-4881-9de6-b05351cdd53d"
      },
      "execution_count": 47,
      "outputs": [
        {
          "output_type": "execute_result",
          "data": {
            "text/plain": [
              "[4, 5, 6]"
            ]
          },
          "metadata": {},
          "execution_count": 47
        }
      ]
    },
    {
      "cell_type": "markdown",
      "source": [
        "and if we want specificall the one particular value"
      ],
      "metadata": {
        "id": "NHQBWanM5hX0"
      }
    },
    {
      "cell_type": "code",
      "source": [
        "group[1][2]"
      ],
      "metadata": {
        "colab": {
          "base_uri": "https://localhost:8080/"
        },
        "id": "_Rf_exd75fbX",
        "outputId": "94650e76-8d82-4838-f991-c7fda9a28d2c"
      },
      "execution_count": 48,
      "outputs": [
        {
          "output_type": "execute_result",
          "data": {
            "text/plain": [
              "6"
            ]
          },
          "metadata": {},
          "execution_count": 48
        }
      ]
    },
    {
      "cell_type": "markdown",
      "metadata": {
        "id": "p_OfszVD5YAq"
      },
      "source": [
        "List Comprehensions :\n",
        "\n",
        "Python has an advanced feature called list comprehensions. They allow for quick construction of lists. To fully understand list comprehensions we need to understand for loops. So don't worry if you don't completely understand this section, and feel free to just skip it since we will return to this topic later.\n",
        "\n",
        "But in case you want to know now, here are a few examples!"
      ]
    },
    {
      "cell_type": "code",
      "source": [
        "r=[row [1] for row in group]"
      ],
      "metadata": {
        "id": "oaQIt1Db5zCB"
      },
      "execution_count": 53,
      "outputs": []
    },
    {
      "cell_type": "code",
      "source": [
        "r"
      ],
      "metadata": {
        "colab": {
          "base_uri": "https://localhost:8080/"
        },
        "id": "LS28n7vf6EfZ",
        "outputId": "06c9be8b-fc5f-4a31-95d3-94b43074f325"
      },
      "execution_count": 54,
      "outputs": [
        {
          "output_type": "execute_result",
          "data": {
            "text/plain": [
              "[2, 5, 8]"
            ]
          },
          "metadata": {},
          "execution_count": 54
        }
      ]
    }
  ]
}